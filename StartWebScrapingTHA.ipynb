{
  "nbformat": 4,
  "nbformat_minor": 0,
  "metadata": {
    "colab": {
      "name": "StartWebScrapingTHA.ipynb",
      "version": "0.3.2",
      "provenance": [],
      "collapsed_sections": [],
      "include_colab_link": true
    },
    "kernelspec": {
      "name": "python3",
      "display_name": "Python 3"
    }
  },
  "cells": [
    {
      "cell_type": "markdown",
      "metadata": {
        "id": "view-in-github",
        "colab_type": "text"
      },
      "source": [
        "<a href=\"https://colab.research.google.com/github/danthor1/danthor1.github.io/blob/master/StartWebScrapingTHA.ipynb\" target=\"_parent\"><img src=\"https://colab.research.google.com/assets/colab-badge.svg\" alt=\"Open In Colab\"/></a>"
      ]
    },
    {
      "metadata": {
        "id": "5ceOE25ZsP2P",
        "colab_type": "text"
      },
      "cell_type": "markdown",
      "source": [
        "# Get started\n",
        "\n",
        "Imoprt modules we'll need to get started\n",
        "\n",
        "\n",
        "\n",
        "[Requests](http://docs.python-requests.org/en/master/)\n",
        "\n",
        "[Beautiful soup](https://www.crummy.com/software/BeautifulSoup/)\n",
        "\n",
        "[Pandas](https://pandas.pydata.org/)\n",
        "\n",
        "[NLTK](https://www.nltk.org/)\n",
        "\n",
        "\n",
        "When you have time go read more about them from the links above!"
      ]
    },
    {
      "metadata": {
        "id": "T0h77uEbEC1k",
        "colab_type": "code",
        "colab": {}
      },
      "cell_type": "code",
      "source": [
        "# import request & beautiful soup\n",
        "# request is for getting content from a URL\n",
        "# beautiful soup is used to parse through the HTML we get from requests\n",
        "import requests\n",
        "from bs4 import BeautifulSoup\n",
        "\n"
      ],
      "execution_count": 0,
      "outputs": []
    },
    {
      "metadata": {
        "id": "USL3jIIbvSXu",
        "colab_type": "text"
      },
      "cell_type": "markdown",
      "source": [
        "Make a request to this page [sageelliott.com/scrape/](https://sageelliott.com/scrape/)\n",
        "\n",
        "This page has elements Sage made that will be good practice for web scraping\n"
      ]
    },
    {
      "metadata": {
        "id": "fisiQTBZsWam",
        "colab_type": "code",
        "colab": {}
      },
      "cell_type": "code",
      "source": [
        "# Make the request to a url\n",
        "r = requests.get('https://sageelliott.com/scrape/')\n"
      ],
      "execution_count": 0,
      "outputs": []
    },
    {
      "metadata": {
        "id": "kaDlHrIJvvzP",
        "colab_type": "code",
        "colab": {}
      },
      "cell_type": "code",
      "source": [
        "# Lets look at what the request content looks like\n",
        "print(r.content)"
      ],
      "execution_count": 0,
      "outputs": []
    },
    {
      "metadata": {
        "id": "qaxIk_fiqTG1",
        "colab_type": "text"
      },
      "cell_type": "markdown",
      "source": [
        "Nice! We just grabbed some HTML and printed it!\n",
        "\n",
        "But it's pretty hard to read.\n",
        "\n",
        "Let's use BeautifulSoup on content from requests.\n",
        "This will make it much more readble when we print it out and allow us to use more BeautifulSoup functionality"
      ]
    },
    {
      "metadata": {
        "id": "e2g1gmvAvnAS",
        "colab_type": "code",
        "colab": {}
      },
      "cell_type": "code",
      "source": [
        "# use Beautifulsoup on content from request\n",
        "c = r.content\n",
        "soup = BeautifulSoup(c)"
      ],
      "execution_count": 0,
      "outputs": []
    },
    {
      "metadata": {
        "id": "mArM7Ee5v72j",
        "colab_type": "code",
        "colab": {}
      },
      "cell_type": "code",
      "source": [
        "# Look at the content formatted with Beautifulsoup\n",
        "print(soup)"
      ],
      "execution_count": 0,
      "outputs": []
    },
    {
      "metadata": {
        "id": "7gUqKWNTcycX",
        "colab_type": "code",
        "colab": {}
      },
      "cell_type": "code",
      "source": [
        "# using prettify() in Beautiful soup indents HTML like it should be in the web page\n",
        "# This can make reading teh HTML a little be easier\n",
        "print(soup.prettify())"
      ],
      "execution_count": 0,
      "outputs": []
    },
    {
      "metadata": {
        "id": "vjuRzBSzqruq",
        "colab_type": "text"
      },
      "cell_type": "markdown",
      "source": [
        "Often the content that you want to scrape will be inside a tag like `div` or similar element. \n",
        "In this case when we look at our HTML we see that the actual content of the page is inside of a `div` with a class of `main-content`. \n",
        "\n",
        "Lets grab all the content inside that `div` and save it to a variable. "
      ]
    },
    {
      "metadata": {
        "id": "vmHYMk3jFPZE",
        "colab_type": "code",
        "colab": {}
      },
      "cell_type": "code",
      "source": [
        "# get elements within the 'main-content' tag\n",
        "main_content = soup.find('div', attrs = {'class': 'main-content'})\n",
        "print(main_content)"
      ],
      "execution_count": 0,
      "outputs": []
    },
    {
      "metadata": {
        "id": "hI7xt49WrW94",
        "colab_type": "text"
      },
      "cell_type": "markdown",
      "source": [
        "Lets drill deeper down into our content and look at different ways of selecting elements within our main-content div.\n",
        "\n",
        "We want to get just our items inside of the list"
      ]
    },
    {
      "metadata": {
        "id": "hsLCOzoYdwBZ",
        "colab_type": "code",
        "colab": {}
      },
      "cell_type": "code",
      "source": [
        "# get the list items inside of a unorded list\n",
        "content = main_content.find('ul')\n",
        "\n",
        "print(content)"
      ],
      "execution_count": 0,
      "outputs": []
    },
    {
      "metadata": {
        "id": "DfUwHBJTrtG9",
        "colab_type": "text"
      },
      "cell_type": "markdown",
      "source": [
        "I'm going to be using examples like the above for most of this workshop, but I want to show that you can also chain the elements like the example below:"
      ]
    },
    {
      "metadata": {
        "id": "TWP1Q7O9r9Nl",
        "colab_type": "code",
        "colab": {}
      },
      "cell_type": "code",
      "source": [
        "# get elements within the 'main-content' tag\n",
        "list_content = soup.find('div', attrs = {'class': 'main-content'}).ul\n",
        "print(list_content)\n"
      ],
      "execution_count": 0,
      "outputs": []
    },
    {
      "metadata": {
        "id": "6SlsY630sATq",
        "colab_type": "text"
      },
      "cell_type": "markdown",
      "source": [
        "In the example above we still have all the HTML tags. \n",
        "Often you wont want the tags and you'll just be interested in the text between them.\n",
        "\n",
        "We can get the text between them using `.text` method from beautiful soup"
      ]
    },
    {
      "metadata": {
        "id": "QpmXn3PFsa5Q",
        "colab_type": "code",
        "colab": {}
      },
      "cell_type": "code",
      "source": [
        "# get the list items inside of a unorded list\n",
        "list_text_content = main_content.find('ul').text\n",
        "\n",
        "print(list_text_content)"
      ],
      "execution_count": 0,
      "outputs": []
    },
    {
      "metadata": {
        "id": "owsuv5r5twSQ",
        "colab_type": "text"
      },
      "cell_type": "markdown",
      "source": [
        "Lets get the headline elements\n",
        "\n",
        "When we look at the HTML we can see that they all have `h2` tags. \n"
      ]
    },
    {
      "metadata": {
        "id": "N_cECgWQtwlk",
        "colab_type": "code",
        "colab": {}
      },
      "cell_type": "code",
      "source": [
        "# Try to get h2 elements\n",
        "content = main_content.find('h2').text\n",
        "\n",
        "print(content)"
      ],
      "execution_count": 0,
      "outputs": []
    },
    {
      "metadata": {
        "id": "5XbD-OTNtw9N",
        "colab_type": "text"
      },
      "cell_type": "markdown",
      "source": [
        "Oh no! It looks like when using `.find()` it only returns the first matching element on the page.\n",
        "\n",
        "We can get all the matching elements by using the`.find_all()` method"
      ]
    },
    {
      "metadata": {
        "id": "zmzxTDOeefmN",
        "colab_type": "code",
        "colab": {}
      },
      "cell_type": "code",
      "source": [
        "# get all the h2s on the page and display each one\n",
        "content = main_content.find_all('h2')\n",
        "\n",
        "print(content)\n"
      ],
      "execution_count": 0,
      "outputs": []
    },
    {
      "metadata": {
        "id": "gWLelycXwlHk",
        "colab_type": "text"
      },
      "cell_type": "markdown",
      "source": [
        "Notice when we print out content above it have the HTML h2 elements seperated by commas inside brackets []. This is called a `list`. Its ofen used to store multiple values in. \n",
        "\n",
        "Lists are iterable, and we can go through each item inside to print them out\n",
        "\n"
      ]
    },
    {
      "metadata": {
        "id": "97Rv0YsJwlUL",
        "colab_type": "code",
        "colab": {}
      },
      "cell_type": "code",
      "source": [
        "# Iterate content list and print out text inside each h2 element\n",
        "\n",
        "for h2 in content:\n",
        "    print(h2.text)"
      ],
      "execution_count": 0,
      "outputs": []
    },
    {
      "metadata": {
        "id": "DBWcxH6saZph",
        "colab_type": "text"
      },
      "cell_type": "markdown",
      "source": [
        "Here we look at an example of finding all the links.\n",
        "\n",
        "We then print out the link text and the URL(href)"
      ]
    },
    {
      "metadata": {
        "id": "BZKMO-7bg7Ol",
        "colab_type": "code",
        "colab": {}
      },
      "cell_type": "code",
      "source": [
        "# Get all links(a) in the main_content div. \n",
        "# for each link in list print link text and the link URL(href)\n",
        "\n",
        "content = main_content.find_all('a')\n",
        "\n",
        "for link in content:\n",
        "    print(link.text+\":\")\n",
        "    print(link['href'])\n"
      ],
      "execution_count": 0,
      "outputs": []
    },
    {
      "metadata": {
        "id": "qV0x2bkkvLm8",
        "colab_type": "text"
      },
      "cell_type": "markdown",
      "source": [
        "# Data Cleaning / reformatting"
      ]
    },
    {
      "metadata": {
        "id": "kw9Q7nXljKaP",
        "colab_type": "text"
      },
      "cell_type": "markdown",
      "source": [
        "Now that we have used some ways to get data lets do some data cleaning with [Regex](https://regexr.com/). regex allows us to search for patterns in data types. It's super powerful, but can feel very complicated when starting out. I'm not going to go too deep into Regex, but I encourage you to learn more about it on your own!\n",
        "\n",
        "Lets look at our list items again"
      ]
    },
    {
      "metadata": {
        "id": "8u6YKX5vjcPK",
        "colab_type": "code",
        "colab": {}
      },
      "cell_type": "code",
      "source": [
        "# get the list items inside of a unorded list\n",
        "list_text_content = main_content.find('ul').text\n",
        "\n",
        "print(list_text_content)"
      ],
      "execution_count": 0,
      "outputs": []
    },
    {
      "metadata": {
        "id": "JOaRCEq2jdIX",
        "colab_type": "text"
      },
      "cell_type": "markdown",
      "source": [
        "Our list items are all text. But what if we want to get just the numbers do we can do numerical operations on them?"
      ]
    },
    {
      "metadata": {
        "id": "MiWhO_UB189o",
        "colab_type": "code",
        "colab": {}
      },
      "cell_type": "code",
      "source": [
        "# import Regex\n",
        "import re"
      ],
      "execution_count": 0,
      "outputs": []
    },
    {
      "metadata": {
        "id": "NU4bRQ881wbI",
        "colab_type": "code",
        "colab": {}
      },
      "cell_type": "code",
      "source": [
        "# Pattern to match the salaries | does this line start with a dollar sign?\n",
        "salary_pattern = re.compile(r'\\$.+')\n",
        "salaries = salary_pattern.findall(list_text_content)\n",
        "\n",
        "print(salaries)"
      ],
      "execution_count": 0,
      "outputs": []
    },
    {
      "metadata": {
        "id": "rM44_A_93b5L",
        "colab_type": "text"
      },
      "cell_type": "markdown",
      "source": [
        "This is great! We now have a list of the salaries, but there is still a problem if we want to do any numerical opporations or visualizations on it.\n",
        "\n",
        "They are still strings!"
      ]
    },
    {
      "metadata": {
        "id": "tLdEMLIA2CoN",
        "colab_type": "code",
        "colab": {}
      },
      "cell_type": "code",
      "source": [
        "# Convert to numbers \n",
        "num_salaries = [int(''.join(s[1:].split(','))) for s in salaries]\n",
        "\n",
        "num_salaries\n"
      ],
      "execution_count": 0,
      "outputs": []
    },
    {
      "metadata": {
        "id": "bsa_88FZKlPM",
        "colab_type": "text"
      },
      "cell_type": "markdown",
      "source": [
        "Lets do something useful with those numbers that we couldn't do if they were still text.\n",
        "\n",
        "We'll get the sum of all to see what the combined networth is:"
      ]
    },
    {
      "metadata": {
        "id": "l_ziszvy2HmV",
        "colab_type": "code",
        "colab": {}
      },
      "cell_type": "code",
      "source": [
        "# combined networth\n",
        "combined_worth = sum(num_salaries)\n",
        "\n",
        "print(combined_worth)\n",
        "\n"
      ],
      "execution_count": 0,
      "outputs": []
    },
    {
      "metadata": {
        "id": "hrucZIMzK3AB",
        "colab_type": "text"
      },
      "cell_type": "markdown",
      "source": [
        "Awesome it worked! Lets go ahead and make it a little more readable to our human eyes"
      ]
    },
    {
      "metadata": {
        "id": "42uRHbZU7ECN",
        "colab_type": "code",
        "colab": {}
      },
      "cell_type": "code",
      "source": [
        "print (\"Combined worth is: ${:,}\".format(combined_worth))"
      ],
      "execution_count": 0,
      "outputs": []
    },
    {
      "metadata": {
        "id": "FnWLaBnrLC5C",
        "colab_type": "text"
      },
      "cell_type": "markdown",
      "source": [
        "Not bad! But we can do even better, that is a lot of decimals"
      ]
    },
    {
      "metadata": {
        "id": "VHtRkjQuJc3i",
        "colab_type": "code",
        "colab": {}
      },
      "cell_type": "code",
      "source": [
        "# Even More readable format\n",
        "worth_billions = float(combined_worth /1000000000)\n",
        "\n",
        "print (\"Combined worth is: ${:.2f} billion\".format(worth_billions))"
      ],
      "execution_count": 0,
      "outputs": []
    },
    {
      "metadata": {
        "id": "jnQ4eqqY2d8D",
        "colab_type": "text"
      },
      "cell_type": "markdown",
      "source": [
        "Cool! Now lets also get the list of names from the list\n",
        "\n",
        "We know that they are characters beginning on the line and the end before the word \"is\". \n",
        "\n",
        "Again, I'm not going to go deep into [Regex](https://regexr.com/) but learn more about it [here](https://regexr.com/) or [here](https://regex101.com/) or by completing [these regex crossword puzzles](https://regexcrossword.com/howtoplay)!\n",
        "\n"
      ]
    },
    {
      "metadata": {
        "id": "1XDcZHMvjkGq",
        "colab_type": "code",
        "colab": {}
      },
      "cell_type": "code",
      "source": [
        "# Create a pattern to match the names\n",
        "name_pattern = re.compile(r'^([A-Z]{1}.+?)(?:is)', flags = re.M)\n",
        "names = name_pattern.findall(list_text_content)\n",
        "\n",
        "print(names)"
      ],
      "execution_count": 0,
      "outputs": []
    },
    {
      "metadata": {
        "id": "G3B21YQWLqdl",
        "colab_type": "text"
      },
      "cell_type": "markdown",
      "source": [
        "We now have a list of Names(text) and a list of Salaries(numbers)\n",
        "\n",
        "We want to put these together in various ways to help us look at the data.\n",
        "\n",
        "This is where [pandas](https://pandas.pydata.org/) will come in handy.\n",
        "\n",
        "Again in this we're only going to scratch the surface. You should read more about the features it has and experiment outside of this workshop. "
      ]
    },
    {
      "metadata": {
        "id": "z0ukdUM02vPR",
        "colab_type": "code",
        "colab": {}
      },
      "cell_type": "code",
      "source": [
        "# import pandas\n",
        "import pandas as pd"
      ],
      "execution_count": 0,
      "outputs": []
    },
    {
      "metadata": {
        "id": "hEj79H7bKGqz",
        "colab_type": "code",
        "colab": {}
      },
      "cell_type": "code",
      "source": [
        "# Put information into a dataframe\n",
        "table = pd.DataFrame({'salary': num_salaries, 'Name': names,})"
      ],
      "execution_count": 0,
      "outputs": []
    },
    {
      "metadata": {
        "id": "_RqAPH0OMhNV",
        "colab_type": "code",
        "colab": {}
      },
      "cell_type": "code",
      "source": [
        "table"
      ],
      "execution_count": 0,
      "outputs": []
    },
    {
      "metadata": {
        "id": "AagKak9VNCsG",
        "colab_type": "text"
      },
      "cell_type": "markdown",
      "source": [
        "Hey, that is much easier to read!\n",
        "\n",
        "But let's say we want to sort it by who is worth the most, so we can see where people stand at a glance. "
      ]
    },
    {
      "metadata": {
        "id": "pfG4F06W2Mu1",
        "colab_type": "code",
        "colab": {}
      },
      "cell_type": "code",
      "source": [
        "# Sort the values by highest to lowest salary\n",
        "table = table.sort_values('salary', ascending=False).reset_index().drop(columns='index')\n"
      ],
      "execution_count": 0,
      "outputs": []
    },
    {
      "metadata": {
        "id": "dHI1NgLXKPSV",
        "colab_type": "code",
        "colab": {}
      },
      "cell_type": "code",
      "source": [
        "table"
      ],
      "execution_count": 0,
      "outputs": []
    },
    {
      "metadata": {
        "id": "wVaQSPW3NltX",
        "colab_type": "text"
      },
      "cell_type": "markdown",
      "source": [
        "Awesome! Let's a do a quick bar graph to make it even easier!\n",
        "\n"
      ]
    },
    {
      "metadata": {
        "id": "rQ6eLwLS5sld",
        "colab_type": "code",
        "colab": {}
      },
      "cell_type": "code",
      "source": [
        "table.plot(kind='bar', x = 'Name', y = 'salary');"
      ],
      "execution_count": 0,
      "outputs": []
    },
    {
      "metadata": {
        "id": "W_nk7ZqMsg5R",
        "colab_type": "text"
      },
      "cell_type": "markdown",
      "source": [
        "# Text Analysis"
      ]
    },
    {
      "metadata": {
        "id": "pv54dRWqruGz",
        "colab_type": "text"
      },
      "cell_type": "markdown",
      "source": [
        "Let's do some sentiment analysis on our headline `h2` elements\n",
        "\n",
        "Maybe we're looking at a list of news headlines and we only want to read the ones we think are positive"
      ]
    },
    {
      "metadata": {
        "id": "1BEkoKegP_QV",
        "colab_type": "code",
        "colab": {}
      },
      "cell_type": "code",
      "source": [
        "# get all the h2s on the page and display each one\n",
        "content = main_content.find_all('h2')\n"
      ],
      "execution_count": 0,
      "outputs": []
    },
    {
      "metadata": {
        "id": "TPzw0YW-QhY5",
        "colab_type": "code",
        "colab": {}
      },
      "cell_type": "code",
      "source": [
        "print(content)"
      ],
      "execution_count": 0,
      "outputs": []
    },
    {
      "metadata": {
        "id": "UaM-Q15JQfRE",
        "colab_type": "code",
        "colab": {}
      },
      "cell_type": "code",
      "source": [
        "dataset =[]\n",
        "\n",
        "for h2 in content:\n",
        "    dataset.append(h2.text)\n",
        "    \n"
      ],
      "execution_count": 0,
      "outputs": []
    },
    {
      "metadata": {
        "id": "nMwxZcffQp-b",
        "colab_type": "code",
        "colab": {}
      },
      "cell_type": "code",
      "source": [
        "print(dataset)"
      ],
      "execution_count": 0,
      "outputs": []
    },
    {
      "metadata": {
        "id": "ZA6fONMFRwQ6",
        "colab_type": "text"
      },
      "cell_type": "markdown",
      "source": [
        "Import [NLTK](https://www.nltk.org/)(Natural Language Toolkit) python module\n",
        "\n",
        "Yet again we're only going to use just a tiny bit of NLTK, but if you're intertested in Natural Language Processing you should totally read more about it!!!"
      ]
    },
    {
      "metadata": {
        "id": "ek-ovom_SH3m",
        "colab_type": "code",
        "colab": {}
      },
      "cell_type": "code",
      "source": [
        "\n",
        "import nltk\n",
        "nltk.download('vader_lexicon')"
      ],
      "execution_count": 0,
      "outputs": []
    },
    {
      "metadata": {
        "id": "gfjHMKGCl2Rj",
        "colab_type": "code",
        "colab": {}
      },
      "cell_type": "code",
      "source": [
        "from nltk.sentiment.vader import SentimentIntensityAnalyzer\n",
        "\n",
        "def sentiment(sentence):    \n",
        "    sentiment = SentimentIntensityAnalyzer()\n",
        "    score = sentiment.polarity_scores(sentence)\n",
        "    return score\n",
        " "
      ],
      "execution_count": 0,
      "outputs": []
    },
    {
      "metadata": {
        "id": "PkADv4rkSle_",
        "colab_type": "code",
        "colab": {}
      },
      "cell_type": "code",
      "source": [
        "for headline in dataset:\n",
        "  print(\"\\n\")\n",
        "  print(headline)\n",
        "  print(sentiment(headline))"
      ],
      "execution_count": 0,
      "outputs": []
    },
    {
      "metadata": {
        "id": "hvpOgtQouO0H",
        "colab_type": "text"
      },
      "cell_type": "markdown",
      "source": [
        "Let's use Pandas to make our output better"
      ]
    },
    {
      "metadata": {
        "id": "Q97bG3kBsP5e",
        "colab_type": "code",
        "colab": {}
      },
      "cell_type": "code",
      "source": [
        "nltk_results = [sentiment(headline) for headline in dataset]\n",
        "\n",
        "import pandas as pd\n",
        "results_df = pd.DataFrame(nltk_results)\n",
        "text_df = pd.DataFrame(dataset, columns = ['headline'])\n",
        "nltk_df = text_df.join(results_df)\n",
        "\n",
        "#print(nltk_results)\n",
        "nltk_df\n"
      ],
      "execution_count": 0,
      "outputs": []
    },
    {
      "metadata": {
        "id": "IAXxdbSTro09",
        "colab_type": "code",
        "colab": {}
      },
      "cell_type": "code",
      "source": [
        "nltk_df.plot(kind='bar', x = 'headline', y = 'neg');"
      ],
      "execution_count": 0,
      "outputs": []
    },
    {
      "metadata": {
        "id": "7MKxLI6OS9jk",
        "colab_type": "code",
        "colab": {}
      },
      "cell_type": "code",
      "source": [
        "nltk_df.plot(kind='bar', x = 'headline', y = 'neu');"
      ],
      "execution_count": 0,
      "outputs": []
    },
    {
      "metadata": {
        "id": "tk345Nk6S-IY",
        "colab_type": "code",
        "colab": {}
      },
      "cell_type": "code",
      "source": [
        "nltk_df.plot(kind='bar', x = 'headline', y = 'pos');"
      ],
      "execution_count": 0,
      "outputs": []
    },
    {
      "metadata": {
        "id": "0_sKYH3Vv5mh",
        "colab_type": "text"
      },
      "cell_type": "markdown",
      "source": [
        "# Keep Learning Challenges!\n",
        "\n",
        "- Redo everything here locally on your machine by installing python (use Anaconda)\n",
        "\n",
        "- Try a different web page! Maybe look at news site and analyze the headlines or content!\n",
        "\n",
        "- Try making better visualizations with Matplotlib\n",
        "\n",
        "- Save to a file or database on your computer\n",
        "\n",
        "- Scrape Wikipedia page for a famous person and get their age. Does it work if the person is no longer alive?\n",
        "\n",
        "- Look up how to navigate and scrape pages linked together\n",
        "\n",
        "  "
      ]
    },
    {
      "metadata": {
        "id": "FNYASq5XX6lp",
        "colab_type": "text"
      },
      "cell_type": "markdown",
      "source": [
        "# Resources:\n",
        "\n",
        "- [Free Data Science Prep](https://www.galvanize.com/data-science-prep) This course will be strong preparation for those considering the Galvanize DS Immersive\n",
        "\n",
        "\n",
        "- Checkout [Scrapy](https://scrapy.org/), another python module foring doing web scraping, or [Selenium](https://pypi.org/project/selenium/), a module for automating web browser interaction."
      ]
    },
    {
      "metadata": {
        "id": "y_a0wYMhYBH4",
        "colab_type": "text"
      },
      "cell_type": "markdown",
      "source": [
        "## What is Galvanize?\n",
        "#### We are a community!\n",
        "\n",
        "\n",
        "#### Immersive Bootcamps\n",
        "\n",
        "- [Data Science](https://www.galvanize.com/data-science) - 5/6/19 - 8/2/19 \n",
        "- [Software Engineer](https://www.galvanize.com/web-development) - 2/19/19 - 5/17/19\n",
        "\n",
        "#### Part-Time Courses\n",
        "\n",
        "- [Data Analytics](https://www.galvanize.com/part-time/data-analytics) 2/12/19 - 5/2/19\n",
        "- [Python Fundamentals](https://www.galvanize.com/part-time/data-science-fundamentals) - 2/20/19 - 3/29/19\n",
        "\n",
        "#### Co-working Space\n",
        "\n",
        "- [Work in our building!](https://www.galvanize.com/entrepreneur)\n",
        "\n",
        "## Questions\n",
        "\n",
        "Please feel free to reach out to me with any questions! Let me know what you're planning to do next and how I can help!\n",
        "\n",
        "- LinkedIn: [CowardlyBattleCat](https://www.linkedin.com/in/cowardlybattlecat/)\n",
        "- GitHub: [CowardlyBattleCat](https://github.com/CowardlyBattleCat)\n",
        "- Email: [thomas.harlan.adams@gmail.com](mailto:thomas.harlan.adams@gmail.com)\n",
        "\n",
        "And be sure to contact Sage as well if you have any specific questions about Galvanize or its facilities/programs/workshops!\n",
        "\n",
        "- Website: [sageelliott.com](http://sageelliott.com/)\n",
        "- Twitter: [@sagecodes](https://twitter.com/@sagecodes)\n",
        "- LinkedIn: [sageelliott](https://www.linkedin.com/in/sageelliott/) \n",
        "- Email: [sage.elliott@galvanize.com](mailto:sage.elliott@galvanize.com)\n"
      ]
    },
    {
      "metadata": {
        "id": "dqwnuRPY3Z20",
        "colab_type": "code",
        "colab": {}
      },
      "cell_type": "code",
      "source": [
        ""
      ],
      "execution_count": 0,
      "outputs": []
    }
  ]
}